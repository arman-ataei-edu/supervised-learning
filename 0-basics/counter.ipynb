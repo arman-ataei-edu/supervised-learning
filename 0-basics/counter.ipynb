{
 "cells": [
  {
   "cell_type": "markdown",
   "metadata": {},
   "source": [
    "# Counter \n",
    "\n",
    "            The Counter class from the collections module in Python is a powerful tool for counting the occurrences of elements in an iterable. It can be used to tally items such as words in a text, characters in a string, or any other collection where counting is required.\n",
    "            Key Features of Counter\n",
    "\n",
    "1. `Initialization:`\n",
    "    + You can create a __Counter__ object by passing an iterable or by using keyword arguments.\n",
    "\n",
    "2. `Counting Elements:`\n",
    "    + The Counter automatically counts the frequency of each element in the iterable.\n",
    "\n",
    "3. `Methods:`\n",
    "    + `elements()`: Returns an iterator over elements, repeating each as many times as its count.\n",
    "    + `most_common([n])`: Returns a list of the n most common elements and their counts.\n",
    "    + `subtract([iterable-or-mapping])`: Subtracts elements from the counter.\n",
    "    + `Arithmetic and set operations`: Supports addition, subtraction, intersection, and union.\n",
    "\n",
    "Example Usage\n",
    "\n",
    "Let's look at some examples to illustrate how Counter works:\n",
    "\n",
    "### Basic Initialization\n",
    "\n",
    "+ `Initialization:` You can initialize a Counter with an iterable or keyword arguments, and it will count the occurrences of each element."
   ]
  },
  {
   "cell_type": "code",
   "execution_count": null,
   "metadata": {},
   "outputs": [],
   "source": [
    "from collections import Counter\n",
    "\n",
    "# Initializing with an iterable\n",
    "counter = Counter(['a', 'b', 'c', 'a', 'b', 'b'])\n",
    "print(counter)  # Output: Counter({'b': 3, 'a': 2, 'c': 1})\n",
    "\n",
    "# Initializing with keyword arguments\n",
    "counter = Counter(a=2, b=3, c=1)\n",
    "print(counter)  # Output: Counter({'b': 3, 'a': 2, 'c': 1})\n"
   ]
  },
  {
   "cell_type": "markdown",
   "metadata": {},
   "source": [
    "### Using Methods\n",
    "\n",
    "+ `elements():` Returns all elements the number of times they appear.\n",
    "\n",
    "+ `most_common(n):` Returns the n most common elements and their counts.\n",
    "\n",
    "+ `subtract():` Subtracts counts, but keeps results that are non-negative."
   ]
  },
  {
   "cell_type": "code",
   "execution_count": null,
   "metadata": {},
   "outputs": [],
   "source": [
    "from collections import Counter\n",
    "\n",
    "counter = Counter('abracadabra')\n",
    "\n",
    "# Elements method\n",
    "print(list(counter.elements()))  \n",
    "# Output: ['a', 'a', 'a', 'a', 'b', 'b', 'r', 'r', 'c', 'd']\n",
    "\n",
    "# Most common method\n",
    "print(counter.most_common(2))  \n",
    "# Output: [('a', 5), ('b', 2)]\n",
    "\n",
    "# Subtract method\n",
    "counter.subtract(Counter('abracadabra'))\n",
    "print(counter)  \n",
    "# Output: Counter({'a': 0, 'b': 0, 'r': 0, 'c': 0, 'd': 0})\n"
   ]
  },
  {
   "cell_type": "markdown",
   "metadata": {},
   "source": [
    "### Arithmetic and Set Operations\n",
    "+ `Arithmetic and Set Operations:` Supports addition, subtraction, intersection, and union of Counter objects, similar to multisets."
   ]
  },
  {
   "cell_type": "code",
   "execution_count": null,
   "metadata": {},
   "outputs": [],
   "source": [
    "from collections import Counter\n",
    "\n",
    "counter1 = Counter('abracadabra')\n",
    "counter2 = Counter('alakazam')\n",
    "\n",
    "# Addition\n",
    "print(counter1 + counter2)  \n",
    "# Output: Counter({'a': 9, 'r': 2, 'b': 2, 'c': 2, 'd': 1, 'l': 1, 'k': 1, 'z': 1, 'm': 1})\n",
    "\n",
    "# Subtraction\n",
    "print(counter1 - counter2)  \n",
    "# Output: Counter({'r': 2, 'b': 2, 'c': 1, 'd': 1})\n",
    "\n",
    "# Intersection\n",
    "print(counter1 & counter2)  \n",
    "# Output: Counter({'a': 4})\n",
    "\n",
    "# Union\n",
    "print(counter1 | counter2)  \n",
    "# Output: Counter({'a': 5, 'r': 2, 'b': 2, 'c': 1, 'd': 1, 'l': 1, 'k': 1, 'z': 1, 'm': 1})\n"
   ]
  }
 ],
 "metadata": {
  "kernelspec": {
   "display_name": "Python 3",
   "language": "python",
   "name": "python3"
  },
  "language_info": {
   "name": "python",
   "version": "3.12.3"
  }
 },
 "nbformat": 4,
 "nbformat_minor": 2
}
