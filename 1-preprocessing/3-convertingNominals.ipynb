{
 "cells": [
  {
   "cell_type": "markdown",
   "metadata": {},
   "source": [
    "## Why and How Nominal Variables Convert into Numerical Values in Machine Learning (copilot response)\n",
    "\n",
    "### Why Convert Nominal Variables?\n",
    "\n",
    "Nominal variables, also known as categorical variables, represent distinct categories or labels without any intrinsic order. Examples include gender, country, or color. Converting these variables into numerical values is essential for the following reasons:\n",
    "\n",
    "1. **Compatibility with Algorithms:**\n",
    "   - Many machine learning algorithms require numerical input. Algorithms such as linear regression, logistic regression, and neural networks cannot process categorical data directly.\n",
    "\n",
    "2. **Improved Performance:**\n",
    "   - Numerical encoding of categorical variables often leads to better model performance by enabling the algorithms to find meaningful patterns and relationships.\n",
    "\n",
    "3. **Distance Metrics:**\n",
    "   - Algorithms that rely on distance metrics (e.g., k-Nearest Neighbors, k-Means clustering) need numerical values to calculate distances between data points.\n",
    "\n",
    "### How to Convert Nominal Variables\n",
    "\n",
    "Several techniques can be used to convert nominal variables into numerical values:\n",
    "\n",
    "#### 1. **Label Encoding**\n",
    "\n",
    "Label encoding assigns a unique integer to each category. It is suitable for ordinal data where the categories have an inherent order, but can introduce unintended ordinal relationships for nominal data.\n",
    "\n",
    "```python\n",
    "from sklearn.preprocessing import LabelEncoder\n",
    "\n",
    "# Example data\n",
    "data = ['red', 'blue', 'green', 'blue', 'green', 'red']\n",
    "\n",
    "# Initialize the LabelEncoder\n",
    "label_encoder = LabelEncoder()\n",
    "\n",
    "# Fit and transform the data\n",
    "encoded_data = label_encoder.fit_transform(data)\n",
    "\n",
    "print(encoded_data)\n",
    "```\n",
    "\n"
   ]
  },
  {
   "cell_type": "code",
   "execution_count": null,
   "metadata": {},
   "outputs": [],
   "source": []
  },
  {
   "cell_type": "markdown",
   "metadata": {},
   "source": [
    "#### 2. **One-Hot Encoding**\n",
    "\n",
    "One-hot encoding creates binary columns for each category, ensuring no ordinal relationships are introduced. It is suitable for nominal data.\n",
    "\n",
    "```python \n",
    "import pandas as pd\n",
    "\n",
    "# Example data\n",
    "data = pd.DataFrame({'color': ['red', 'blue', 'green', 'blue', 'green', 'red']})\n",
    "\n",
    "# Perform one-hot encoding\n",
    "one_hot_encoded_data = pd.get_dummies(data, columns=['color'])\n",
    "\n",
    "print(one_hot_encoded_data)\n"
   ]
  },
  {
   "cell_type": "code",
   "execution_count": null,
   "metadata": {},
   "outputs": [],
   "source": []
  },
  {
   "cell_type": "markdown",
   "metadata": {},
   "source": [
    "#### 3. **Ordinal Encoding**\n",
    "\n",
    "Ordinal encoding assigns integer values to categories based on a specified order. It is appropriate for ordinal data where the order of categories matters.\n",
    "\n",
    "```python \n",
    "import pandas as pd\n",
    "from sklearn.preprocessing import OrdinalEncoder\n",
    "\n",
    "# Example data with an inherent order\n",
    "data = pd.DataFrame({'size': ['small', 'medium', 'large', 'medium', 'small']})\n",
    "\n",
    "# Define the order of categories\n",
    "categories = [['small', 'medium', 'large']]\n",
    "\n",
    "# Initialize the OrdinalEncoder\n",
    "ordinal_encoder = OrdinalEncoder(categories=categories)\n",
    "\n",
    "# Fit and transform the data\n",
    "encoded_data = ordinal_encoder.fit_transform(data[['size']])\n",
    "\n",
    "print(encoded_data)\n"
   ]
  },
  {
   "cell_type": "code",
   "execution_count": null,
   "metadata": {},
   "outputs": [],
   "source": []
  },
  {
   "cell_type": "markdown",
   "metadata": {},
   "source": [
    "#### 4. **Target Encoding**\n",
    "Target encoding replaces each category with the mean of the target variable for that category. It can be useful for high-cardinality categorical variables but may introduce data leakage if not applied carefully.\n",
    "\n",
    "```python \n",
    "\n",
    "import pandas as pd\n",
    "\n",
    "# Example data\n",
    "data = pd.DataFrame({'category': ['A', 'B', 'A', 'B', 'A'],\n",
    "                     'target': [1, 2, 3, 4, 5]})\n",
    "\n",
    "# Calculate the mean target for each category\n",
    "target_mean = data.groupby('category')['target'].mean()\n",
    "\n",
    "# Replace categories with the mean target value\n",
    "data['category_encoded'] = data['category'].map(target_mean)\n",
    "\n",
    "print(data)\n"
   ]
  },
  {
   "cell_type": "code",
   "execution_count": null,
   "metadata": {},
   "outputs": [],
   "source": []
  }
 ],
 "metadata": {
  "kernelspec": {
   "display_name": "Python 3",
   "language": "python",
   "name": "python3"
  },
  "language_info": {
   "name": "python",
   "version": "3.12.3"
  }
 },
 "nbformat": 4,
 "nbformat_minor": 2
}
