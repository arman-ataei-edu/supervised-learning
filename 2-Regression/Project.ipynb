{
 "cells": [
  {
   "cell_type": "code",
   "execution_count": 1,
   "metadata": {},
   "outputs": [],
   "source": [
    "import pandas as pd\n",
    "import numpy as np\n",
    "\n",
    "import matplotlib.pyplot as plt\n",
    "\n",
    "from sklearn.preprocessing import MinMaxScaler\n",
    "from sklearn.model_selection import train_test_split\n",
    "import math"
   ]
  },
  {
   "cell_type": "code",
   "execution_count": 2,
   "metadata": {},
   "outputs": [
    {
     "name": "stdout",
     "output_type": "stream",
     "text": [
      "Before Preprocessing:\n",
      " Movie                   0\n",
      "Year                    0\n",
      "Ratings                 0\n",
      "Genre                   0\n",
      "Gross                   0\n",
      "Budget                  1\n",
      "Screens                10\n",
      "Sequel                  0\n",
      "Sentiment               0\n",
      "Views                   0\n",
      "Likes                   0\n",
      "Dislikes                0\n",
      "Comments                0\n",
      "Aggregate Followers    35\n",
      "dtype: int64\n",
      "After Preprocessing:\n",
      " Movie                  0\n",
      "Year                   0\n",
      "Ratings                0\n",
      "Genre                  0\n",
      "Gross                  0\n",
      "Budget                 0\n",
      "Screens                0\n",
      "Sequel                 0\n",
      "Sentiment              0\n",
      "Views                  0\n",
      "Likes                  0\n",
      "Dislikes               0\n",
      "Comments               0\n",
      "Aggregate Followers    0\n",
      "dtype: int64\n",
      "      Ratings     Genre     Gross    Budget   Screens    Sequel  Sentiment  \\\n",
      "0    0.571429  0.500000  0.000010  0.015724  0.009949  0.000000   0.567164   \n",
      "1    0.714286  0.000000  0.298598  0.199776  0.764461  0.166667   0.597015   \n",
      "2    0.553571  0.000000  0.047741  0.111751  0.664044  0.000000   0.567164   \n",
      "3    0.571429  0.000000  0.164849  0.439843  0.802406  0.166667   0.567164   \n",
      "4    0.285714  0.500000  0.026901  0.013724  0.534012  0.166667   0.567164   \n",
      "..        ...       ...       ...       ...       ...       ...        ...   \n",
      "226  0.589286  0.214286  0.001878  0.199776  0.014808  0.000000   0.626866   \n",
      "227  0.428571  1.000000  0.032656  0.147761  0.650856  0.000000   0.761194   \n",
      "228  0.410714  0.500000  0.015859  0.139759  0.642064  0.000000   0.671642   \n",
      "229  0.410714  0.000000  0.019125  0.011723  0.510700  0.000000   0.716418   \n",
      "230  0.232143  1.000000  0.035144  0.000120  0.628876  0.000000   0.492537   \n",
      "\n",
      "        Views     Likes  Dislikes  Comments  Aggregate Followers  \n",
      "0    0.100528  0.012498  0.030444  0.016578             0.036061  \n",
      "1    0.017857  0.009348  0.004370  0.004848             0.397981  \n",
      "2    0.009323  0.000882  0.002436  0.001225             0.015532  \n",
      "3    0.013861  0.006552  0.009456  0.015379             0.018271  \n",
      "4    0.096391  0.032821  0.043696  0.028204             0.061966  \n",
      "..        ...       ...       ...       ...                  ...  \n",
      "226  0.113417  0.025163  0.045917  0.048458             0.097880  \n",
      "227  0.218192  0.050741  0.080802  0.059693             0.097880  \n",
      "228  0.105741  0.018410  0.023281  0.010661             0.097880  \n",
      "229  0.002028  0.001077  0.004799  0.005239             0.097880  \n",
      "230  0.020201  0.007664  0.030874  0.015796             0.097880  \n",
      "\n",
      "[231 rows x 12 columns]\n",
      "(231, 11) (231,)\n",
      "(47, 11) (47,)\n"
     ]
    }
   ],
   "source": [
    "raw_data = pd.read_excel('./CSM_dataset.xlsx')\n",
    "# print(raw_data)\n",
    "# print(raw_data.to_markdown())\n",
    "# with pd.option_context('display.max_rows', None,\n",
    "#                        'display.max_columns', None,\n",
    "#                        'display.precision', 3,\n",
    "#                        ):\n",
    "#     print(raw_data)\n",
    "print(\"Before Preprocessing:\\n\",raw_data.isna().sum())\n",
    "\n",
    "isna_cols = raw_data.isna().sum()\n",
    "# print(isna_cols.index)\n",
    "# taking care of missing values\n",
    "cols = raw_data.columns\n",
    "for col in cols:\n",
    "    if isna_cols[col] :\n",
    "        _mean = raw_data[col].mean()\n",
    "        raw_data[col] = raw_data[col].replace(math.nan, _mean)\n",
    "\n",
    "\n",
    "print(\"After Preprocessing:\\n\",raw_data.isna().sum())\n",
    "# removing \"Movie\" and \"Year\" from the dataset \n",
    "\n",
    "# print(cols.drop([\"Movie\"]))\n",
    "prep_cols = cols.drop([\"Movie\", 'Year'])\n",
    "# print(cols)\n",
    "prep_data = raw_data.drop(['Movie', 'Year'], axis=1)\n",
    "\n",
    "# since \"Movie\" name and \"Year\" do not effect the \"Gross\" (target variabl) we removed it.\n",
    "\n",
    "# Normalization using MinMaxScaler\n",
    "\n",
    "min_max_scaler = MinMaxScaler()\n",
    "x = prep_data[prep_cols].values\n",
    "x_scaled = min_max_scaler.fit_transform(x)\n",
    "\n",
    "normalized = pd.DataFrame(x_scaled, columns=prep_cols, index=prep_data.index)\n",
    "\n",
    "prep_data[prep_cols] = normalized\n",
    "print(prep_data)\n",
    "# splitting the dataset\n",
    "Y = np.array(prep_data.pop(\"Gross\"))\n",
    "X = np.array(prep_data)\n",
    "\n",
    "print(X.shape, Y.shape)\n",
    "X_train, X_test, Y_train, Y_test = train_test_split(X,Y,test_size=.2)\n",
    "print(X_test.shape, Y_test.shape)\n",
    "\n",
    "# raw_data"
   ]
  },
  {
   "cell_type": "code",
   "execution_count": 3,
   "metadata": {},
   "outputs": [],
   "source": [
    "# init regression model\n",
    "from sklearn.linear_model import LinearRegression\n",
    "from sklearn.linear_model import SGDRegressor\n",
    "\n",
    "lr = LinearRegression()\n",
    "lr_gd = SGDRegressor(max_iter=100000, tol=0.000000001, penalty=\"l2\")"
   ]
  },
  {
   "cell_type": "code",
   "execution_count": 4,
   "metadata": {},
   "outputs": [
    {
     "name": "stdout",
     "output_type": "stream",
     "text": [
      "LinAlg Method Score:  0.6924044521506334\n",
      "SGD Method Score:  0.7027738068811267\n"
     ]
    }
   ],
   "source": [
    "# training model\n",
    "lr.fit(X_train, Y_train)\n",
    "score = lr.score(X_test, Y_test)\n",
    "print(\"LinAlg Method Score: \",score)\n",
    "\n",
    "\n",
    "lr_gd.fit(X_train, Y_train)\n",
    "score = lr_gd.score(X_test, Y_test)\n",
    "print(\"SGD Method Score: \",score)\n"
   ]
  },
  {
   "cell_type": "code",
   "execution_count": 5,
   "metadata": {},
   "outputs": [
    {
     "name": "stdout",
     "output_type": "stream",
     "text": [
      "MSE_LinAlg:0.0035\n",
      "MSE_gd:0.0034\n"
     ]
    }
   ],
   "source": [
    "from sklearn.metrics import mean_squared_error\n",
    "# evaluating MSE\n",
    "y_pred_linAlg = lr.predict(X_test)\n",
    "mse_linAlg = mean_squared_error(Y_test, y_pred_linAlg)\n",
    "print(f\"MSE_LinAlg:{mse_linAlg:.4f}\")\n",
    "\n",
    "y_pred_gd = lr_gd.predict(X_test)\n",
    "mse_gd = mean_squared_error(Y_test, y_pred_gd)\n",
    "print(f\"MSE_gd:{mse_gd:.4f}\")\n",
    "\n"
   ]
  },
  {
   "cell_type": "markdown",
   "metadata": {},
   "source": [
    "### __model.score(y_test, y_pred)__ \n",
    "    \n",
    "This function in scikit-learn computes the performance metric for the model on the provided test data. The specific metric it computes depends on the type of estimator (model) you are using.\n",
    "\n",
    "+ `For Regression Models:`\n",
    "    \n",
    "    + __R^2 Score (Coefficient of Determination):__ For regression models, model.score(X_test, y_test) returns the R^2 score, which measures how well the model's predictions match the actual values. The R^2 score can range from -∞ to 1, with a value of 1 indicating perfect predictions.\n",
    "\n",
    "    $$R^2 = 1 - \\frac{\\sum (y_i - \\hat{y}_i)^2}{\\sum (y_i - \\bar{y})^2}$$\n",
    "\n",
    "+ `For Classification Models:`\n",
    "\n",
    "    + __Accuracy:__ For classification models, model.score(X_test, y_test) returns the accuracy, which is the proportion of correctly classified samples. The accuracy ranges from 0 to 1, where 1 means all predictions are correct.\n"
   ]
  }
 ],
 "metadata": {
  "kernelspec": {
   "display_name": "Python 3",
   "language": "python",
   "name": "python3"
  },
  "language_info": {
   "codemirror_mode": {
    "name": "ipython",
    "version": 3
   },
   "file_extension": ".py",
   "mimetype": "text/x-python",
   "name": "python",
   "nbconvert_exporter": "python",
   "pygments_lexer": "ipython3",
   "version": "3.12.3"
  }
 },
 "nbformat": 4,
 "nbformat_minor": 2
}
